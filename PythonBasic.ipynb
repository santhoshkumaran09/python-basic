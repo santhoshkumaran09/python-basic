{
 "cells": [
  {
   "cell_type": "markdown",
   "id": "79038416",
   "metadata": {},
   "source": [
    "# 1. What is Python, and why is it popular?"
   ]
  },
  {
   "cell_type": "markdown",
   "id": "8a3a8029",
   "metadata": {},
   "source": [
    "1. It has an easy-to-learn syntax.\n",
    "2. It offers extensive libraries and frameworks for various applications (e.g., NumPy, Pandas, Django, TensorFlow).\n",
    "3. It is widely used in data science, machine learning, web development, automation, and more."
   ]
  },
  {
   "cell_type": "markdown",
   "id": "5a984217",
   "metadata": {},
   "source": [
    "# 2. What is an interpreter in Python?"
   ]
  },
  {
   "cell_type": "markdown",
   "id": "04729644",
   "metadata": {},
   "source": [
    "An interpreter in Python is a program that directly executes Python code line by line, translating it into machine-readable instructions."
   ]
  },
  {
   "cell_type": "markdown",
   "id": "287f3947",
   "metadata": {},
   "source": [
    "# 3.What are pre-defined keywords in Python?\n"
   ]
  },
  {
   "cell_type": "markdown",
   "id": "5940859b",
   "metadata": {},
   "source": [
    "Pre-defined keywords in Python are reserved words that have specific meanings and uses within the Python programming language. They cannot be used for variable names, functions, or identifiers. Examples include if, else, while, def, class, and import.\n",
    "\n"
   ]
  },
  {
   "cell_type": "markdown",
   "id": "22923104",
   "metadata": {},
   "source": [
    "# 4. Can keywords be used as variable names?"
   ]
  },
  {
   "cell_type": "markdown",
   "id": "1ff25f66",
   "metadata": {},
   "source": [
    "NO"
   ]
  },
  {
   "cell_type": "markdown",
   "id": "e32af058",
   "metadata": {},
   "source": [
    "# 5. What is mutability in Python?\n"
   ]
  },
  {
   "cell_type": "markdown",
   "id": "398b98f4",
   "metadata": {},
   "source": [
    "1. Mutability in Python refers to whether an object’s state (its data or content) can be changed after it is created.\n",
    "\n",
    "2. Mutable objects: Their values can be modified after creation (e.g., lists, dictionaries, sets)."
   ]
  },
  {
   "cell_type": "markdown",
   "id": "c49d5ea4",
   "metadata": {},
   "source": [
    "# 6. Why are lists mutable, but tuples are immutable?"
   ]
  },
  {
   "cell_type": "markdown",
   "id": "8edfa4ae",
   "metadata": {},
   "source": [
    "1. Lists are mutable because they are designed to allow modifications like adding, removing, or changing elements after creation. This makes them versatile and suitable for dynamic data structures.\n",
    "2. Tuples are immutable for performance and reliability. They are hashable and can be used as keys in dictionaries or elements in sets."
   ]
  },
  {
   "cell_type": "markdown",
   "id": "84e3f916",
   "metadata": {},
   "source": [
    "# 7. What is the difference between == and is operators in Python?"
   ]
  },
  {
   "cell_type": "markdown",
   "id": "eee0c03f",
   "metadata": {},
   "source": [
    "== checks for value equality, meaning it compares whether the values of two objects are the same.\n",
    "is checks for reference equality, meaning it compares whether two objects are the same in memory "
   ]
  },
  {
   "cell_type": "markdown",
   "id": "dd62948a",
   "metadata": {},
   "source": [
    "# 8. What are logical operators in Python?"
   ]
  },
  {
   "cell_type": "markdown",
   "id": "bfeb857e",
   "metadata": {},
   "source": [
    "Logical operators are used to perform logical operations on Boolean values. Python supports three logical operators:\n",
    "\n",
    "1. and: Returns True if both conditions are true.\n",
    "2. or: Returns True if at least one condition is true.\n",
    "3. not: Negates the Boolean value (returns True if the condition is false and vice versa)."
   ]
  },
  {
   "cell_type": "markdown",
   "id": "134a56d4",
   "metadata": {},
   "source": [
    "# 9. What is type casting in Python?"
   ]
  },
  {
   "cell_type": "markdown",
   "id": "f59442cc",
   "metadata": {},
   "source": [
    "Type casting is the process of converting one data type into another."
   ]
  },
  {
   "cell_type": "markdown",
   "id": "25aeea89",
   "metadata": {},
   "source": [
    "# 10. What is the difference between implicit and explicit type casting?"
   ]
  },
  {
   "cell_type": "markdown",
   "id": "5f80f747",
   "metadata": {},
   "source": [
    "Implicit type casting: The Python interpreter automatically converts one data type to another when needed, without user intervention.\n",
    "Example: result = 3 + 2.5 (Python converts 3 to 3.0 before addition).\n",
    "Explicit type casting: The programmer manually converts one data type to another using type conversion functions.\n",
    "Example: result = int(3.7) (manually converting 3.7 to 3)."
   ]
  },
  {
   "cell_type": "markdown",
   "id": "7e2636b0",
   "metadata": {},
   "source": [
    "# 11. What is the purpose of conditional statements in Python?"
   ]
  },
  {
   "cell_type": "markdown",
   "id": "ce3f4361",
   "metadata": {},
   "source": [
    "Conditional statements allow a program to execute specific blocks of code based on certain conditions. They help in decision-making by directing the flow of execution. Examples include if, elif, and else."
   ]
  },
  {
   "cell_type": "markdown",
   "id": "426fc241",
   "metadata": {},
   "source": [
    "# 12. How does the elif statement work?"
   ]
  },
  {
   "cell_type": "markdown",
   "id": "74aa2f30",
   "metadata": {},
   "source": [
    "The elif statement stands for \"else if\" and allows for multiple conditions to be checked in sequence. It is used after an if statement to define an alternative condition when the previous conditions are not met."
   ]
  },
  {
   "cell_type": "markdown",
   "id": "7d201bca",
   "metadata": {},
   "source": [
    "# 13. What is the difference between for and while loops?"
   ]
  },
  {
   "cell_type": "markdown",
   "id": "1a8d9d10",
   "metadata": {},
   "source": [
    "1. For loop: Used when the number of iterations is known or when iterating over a sequence (e.g., list, tuple, string).\n",
    "2. While loop: Used when the number of iterations is not known beforehand and depends on a condition being true."
   ]
  },
  {
   "cell_type": "markdown",
   "id": "f4065692",
   "metadata": {},
   "source": [
    "# 14. Describe a scenario where a while loop is more suitable than a for loop."
   ]
  },
  {
   "cell_type": "markdown",
   "id": "e55958d0",
   "metadata": {},
   "source": [
    "A while loop is more suitable when the number of iterations depends on a condition that may change dynamically during execution. For example, a program that keeps prompting the user for input until they enter a valid response"
   ]
  },
  {
   "cell_type": "markdown",
   "id": "043c95ec",
   "metadata": {},
   "source": [
    "# Practical Questions"
   ]
  },
  {
   "cell_type": "code",
   "execution_count": 4,
   "id": "47fae74a",
   "metadata": {},
   "outputs": [
    {
     "name": "stdout",
     "output_type": "stream",
     "text": [
      "Hello, World!\n"
     ]
    }
   ],
   "source": [
    "print(\"Hello, World!\")\n"
   ]
  },
  {
   "cell_type": "code",
   "execution_count": 5,
   "id": "9c24b81a",
   "metadata": {},
   "outputs": [
    {
     "name": "stdout",
     "output_type": "stream",
     "text": [
      "My name is Santhosh Kumaran and I am 25 years old.\n"
     ]
    }
   ],
   "source": [
    "name = \"Santhosh Kumaran\"\n",
    "age = 25  \n",
    "print(f\"My name is {name} and I am {age} years old.\")\n"
   ]
  },
  {
   "cell_type": "code",
   "execution_count": 6,
   "id": "4b350c8e",
   "metadata": {},
   "outputs": [
    {
     "name": "stdout",
     "output_type": "stream",
     "text": [
      "Python keywords: ['False', 'None', 'True', 'and', 'as', 'assert', 'async', 'await', 'break', 'class', 'continue', 'def', 'del', 'elif', 'else', 'except', 'finally', 'for', 'from', 'global', 'if', 'import', 'in', 'is', 'lambda', 'nonlocal', 'not', 'or', 'pass', 'raise', 'return', 'try', 'while', 'with', 'yield']\n"
     ]
    }
   ],
   "source": [
    "import keyword\n",
    "print(\"Python keywords:\", keyword.kwlist)\n"
   ]
  },
  {
   "cell_type": "code",
   "execution_count": 8,
   "id": "21cdd742",
   "metadata": {},
   "outputs": [
    {
     "name": "stdout",
     "output_type": "stream",
     "text": [
      "Enter a word: elif\n",
      "'elif' is a Python keyword.\n"
     ]
    }
   ],
   "source": [
    "import keyword\n",
    "\n",
    "word = input(\"Enter a word: \")\n",
    "if keyword.iskeyword(word):\n",
    "    print(f\"'{word}' is a Python keyword.\")\n",
    "else:\n",
    "    print(f\"'{word}' is not a Python keyword.\")\n",
    "\n",
    "    "
   ]
  },
  {
   "cell_type": "code",
   "execution_count": 9,
   "id": "7a0c3eac",
   "metadata": {},
   "outputs": [
    {
     "name": "stdout",
     "output_type": "stream",
     "text": [
      "Modified list: [10, 2, 3]\n",
      "Error: 'tuple' object does not support item assignment\n"
     ]
    }
   ],
   "source": [
    "# List (mutable)\n",
    "my_list = [1, 2, 3]\n",
    "my_list[0] = 10\n",
    "print(\"Modified list:\", my_list)\n",
    "\n",
    "# Tuple (immutable)\n",
    "my_tuple = (1, 2, 3)\n",
    "try:\n",
    "    my_tuple[0] = 10  \n",
    "except TypeError as e:\n",
    "    print(\"Error:\", e)\n"
   ]
  },
  {
   "cell_type": "code",
   "execution_count": 10,
   "id": "77583f29",
   "metadata": {},
   "outputs": [
    {
     "name": "stdout",
     "output_type": "stream",
     "text": [
      "Inside function:\n",
      "Mutable: [1, 2, 3, 100]\n",
      "Immutable: 150\n",
      "\n",
      "Outside function:\n",
      "Mutable: [1, 2, 3, 100]\n",
      "Immutable: 50\n"
     ]
    }
   ],
   "source": [
    "def modify_arguments(mutable_obj, immutable_obj):\n",
    "    mutable_obj.append(100)  \n",
    "    immutable_obj += 100   \n",
    "    print(\"Inside function:\")\n",
    "    print(\"Mutable:\", mutable_obj)\n",
    "    print(\"Immutable:\", immutable_obj)\n",
    "\n",
    "\n",
    "mutable_list = [1, 2, 3]\n",
    "immutable_int = 50\n",
    "\n",
    "modify_arguments(mutable_list, immutable_int)\n",
    "\n",
    "print(\"\\nOutside function:\")\n",
    "print(\"Mutable:\", mutable_list)\n",
    "print(\"Immutable:\", immutable_int)\n"
   ]
  },
  {
   "cell_type": "code",
   "execution_count": 11,
   "id": "bea964fe",
   "metadata": {},
   "outputs": [
    {
     "name": "stdout",
     "output_type": "stream",
     "text": [
      "a > b and b > c: False\n",
      "a < b or b > c: True\n",
      "not (a > c): True\n"
     ]
    }
   ],
   "source": [
    "a = 10\n",
    "b = 20\n",
    "c = 15\n",
    "\n",
    "print(\"a > b and b > c:\", a > b and b > c)\n",
    "print(\"a < b or b > c:\", a < b or b > c)\n",
    "print(\"not (a > c):\", not (a > c))\n"
   ]
  },
  {
   "cell_type": "code",
   "execution_count": 13,
   "id": "bfb5ec5b",
   "metadata": {},
   "outputs": [
    {
     "name": "stdout",
     "output_type": "stream",
     "text": [
      "Enter a value: 0\n",
      "Integer: 0\n",
      "Float: 0.0\n",
      "Boolean: False\n"
     ]
    }
   ],
   "source": [
    "user_input = input(\"Enter a value: \")\n",
    "\n",
    "integer_value = int(user_input)\n",
    "float_value = float(user_input)\n",
    "boolean_value = bool(int(user_input))  \n",
    "\n",
    "\n",
    "print(\"Integer:\", integer_value)\n",
    "print(\"Float:\", float_value)\n",
    "print(\"Boolean:\", boolean_value)\n"
   ]
  },
  {
   "cell_type": "code",
   "execution_count": 14,
   "id": "96fe285d",
   "metadata": {},
   "outputs": [
    {
     "name": "stdout",
     "output_type": "stream",
     "text": [
      "Original list: ['1', '2', '3']\n",
      "Converted to integers: [1, 2, 3]\n"
     ]
    }
   ],
   "source": [
    "original_list = ['1', '2', '3']\n",
    "int_list = list(map(int, original_list))\n",
    "print(\"Original list:\", original_list)\n",
    "print(\"Converted to integers:\", int_list)\n"
   ]
  },
  {
   "cell_type": "code",
   "execution_count": 15,
   "id": "f99ba78d",
   "metadata": {},
   "outputs": [
    {
     "name": "stdout",
     "output_type": "stream",
     "text": [
      "Enter a number: 1\n",
      "The number is positive.\n"
     ]
    }
   ],
   "source": [
    "num = float(input(\"Enter a number: \"))\n",
    "\n",
    "if num > 0:\n",
    "    print(\"The number is positive.\")\n",
    "elif num < 0:\n",
    "    print(\"The number is negative.\")\n",
    "else:\n",
    "    print(\"The number is zero.\")\n"
   ]
  },
  {
   "cell_type": "code",
   "execution_count": 16,
   "id": "abea5ae6",
   "metadata": {},
   "outputs": [
    {
     "name": "stdout",
     "output_type": "stream",
     "text": [
      "1\n",
      "2\n",
      "3\n",
      "4\n",
      "5\n",
      "6\n",
      "7\n",
      "8\n",
      "9\n",
      "10\n",
      "11\n",
      "12\n",
      "13\n",
      "14\n",
      "15\n",
      "16\n",
      "17\n",
      "18\n",
      "19\n",
      "20\n",
      "21\n",
      "22\n",
      "23\n",
      "24\n",
      "25\n",
      "26\n",
      "27\n",
      "28\n",
      "29\n",
      "30\n",
      "31\n",
      "32\n",
      "33\n",
      "34\n",
      "35\n",
      "36\n",
      "37\n",
      "38\n",
      "39\n",
      "40\n",
      "41\n",
      "42\n",
      "43\n",
      "44\n",
      "45\n",
      "46\n",
      "47\n",
      "48\n",
      "49\n",
      "50\n",
      "51\n",
      "52\n",
      "53\n",
      "54\n",
      "55\n",
      "56\n",
      "57\n",
      "58\n",
      "59\n",
      "60\n",
      "61\n",
      "62\n",
      "63\n",
      "64\n",
      "65\n",
      "66\n",
      "67\n",
      "68\n",
      "69\n",
      "70\n",
      "71\n",
      "72\n",
      "73\n",
      "74\n",
      "75\n",
      "76\n",
      "77\n",
      "78\n",
      "79\n",
      "80\n",
      "81\n",
      "82\n",
      "83\n",
      "84\n",
      "85\n",
      "86\n",
      "87\n",
      "88\n",
      "89\n",
      "90\n",
      "91\n",
      "92\n",
      "93\n",
      "94\n",
      "95\n",
      "96\n",
      "97\n",
      "98\n",
      "99\n",
      "100\n"
     ]
    }
   ],
   "source": [
    "for i in range(1, 101):\n",
    "    print(i)\n"
   ]
  },
  {
   "cell_type": "code",
   "execution_count": 17,
   "id": "a7a86f8c",
   "metadata": {},
   "outputs": [
    {
     "name": "stdout",
     "output_type": "stream",
     "text": [
      "Sum of even numbers from 1 to 500: 62750\n"
     ]
    }
   ],
   "source": [
    "even_sum = sum(i for i in range(1, 501) if i % 2 == 0)\n",
    "print(\"Sum of even numbers from 1 to 500:\", even_sum)\n"
   ]
  },
  {
   "cell_type": "code",
   "execution_count": 18,
   "id": "7c85ad65",
   "metadata": {},
   "outputs": [
    {
     "name": "stdout",
     "output_type": "stream",
     "text": [
      "Enter a string: san\n",
      "Reversed string: nas\n"
     ]
    }
   ],
   "source": [
    "string = input(\"Enter a string: \")\n",
    "reversed_string = \"\"\n",
    "index = len(string) - 1\n",
    "\n",
    "while index >= 0:\n",
    "    reversed_string += string[index]\n",
    "    index -= 1\n",
    "\n",
    "print(\"Reversed string:\", reversed_string)\n"
   ]
  },
  {
   "cell_type": "code",
   "execution_count": 19,
   "id": "66fba1e5",
   "metadata": {},
   "outputs": [
    {
     "name": "stdout",
     "output_type": "stream",
     "text": [
      "Enter a number: 12\n",
      "The factorial is: 479001600\n"
     ]
    }
   ],
   "source": [
    "num = int(input(\"Enter a number: \"))\n",
    "factorial = 1\n",
    "\n",
    "if num < 0:\n",
    "    print(\"Factorial is not defined for negative numbers.\")\n",
    "elif num == 0 or num == 1:\n",
    "    print(\"The factorial is 1.\")\n",
    "else:\n",
    "    while num > 1:\n",
    "        factorial *= num\n",
    "        num -= 1\n",
    "    print(\"The factorial is:\", factorial)\n"
   ]
  },
  {
   "cell_type": "code",
   "execution_count": null,
   "id": "8d419659",
   "metadata": {},
   "outputs": [],
   "source": []
  }
 ],
 "metadata": {
  "kernelspec": {
   "display_name": "Python 3 (ipykernel)",
   "language": "python",
   "name": "python3"
  },
  "language_info": {
   "codemirror_mode": {
    "name": "ipython",
    "version": 3
   },
   "file_extension": ".py",
   "mimetype": "text/x-python",
   "name": "python",
   "nbconvert_exporter": "python",
   "pygments_lexer": "ipython3",
   "version": "3.11.4"
  }
 },
 "nbformat": 4,
 "nbformat_minor": 5
}
