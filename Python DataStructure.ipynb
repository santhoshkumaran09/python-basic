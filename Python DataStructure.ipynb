{
 "cells": [
  {
   "cell_type": "markdown",
   "id": "0ed43b4a",
   "metadata": {},
   "source": [
    "# What are data structures, and why are they important?"
   ]
  },
  {
   "cell_type": "markdown",
   "id": "a3d3224c",
   "metadata": {},
   "source": [
    "Data structures are organized ways to store, manage, and access data efficiently. They are crucial because they optimize data handling for various tasks, such as searching, sorting, and processing."
   ]
  },
  {
   "cell_type": "markdown",
   "id": "483ccb17",
   "metadata": {},
   "source": [
    "# Explain the difference between mutable and immutable data types with examples."
   ]
  },
  {
   "cell_type": "markdown",
   "id": "caac5d96",
   "metadata": {},
   "source": [
    "* Mutable: Can be modified after creation (e.g., lists, dictionaries).\n",
    "* Immutable: Cannot be changed after creation (e.g., strings, tuples).\n",
    "  "
   ]
  },
  {
   "cell_type": "markdown",
   "id": "2d21c3d7",
   "metadata": {},
   "source": [
    "# What are the main differences between lists and tuples in Python?"
   ]
  },
  {
   "cell_type": "markdown",
   "id": "de2fdd4c",
   "metadata": {},
   "source": [
    "1. Lists are mutable; tuples are immutable.\n",
    "2. Lists use more memory compared to tuples because they are dynamic.\n",
    "3. Lists are suitable for operations requiring frequent changes, while tuples are better for fixed data."
   ]
  },
  {
   "cell_type": "markdown",
   "id": "fe8ac8e4",
   "metadata": {},
   "source": [
    "# Describe how dictionaries store data.Describe how dictionaries store data."
   ]
  },
  {
   "cell_type": "markdown",
   "id": "5c8bef35",
   "metadata": {},
   "source": [
    "Dictionaries store data as key-value pairs. They use a hash table internally, ensuring fast lookups, insertions, and deletions."
   ]
  },
  {
   "cell_type": "markdown",
   "id": "8e204366",
   "metadata": {},
   "source": [
    "# Why might you use a set instead of a list in Python?"
   ]
  },
  {
   "cell_type": "markdown",
   "id": "579270bb",
   "metadata": {},
   "source": [
    "Sets automatically remove duplicates and allow faster membership tests due to their internal hashing mechanism."
   ]
  },
  {
   "cell_type": "markdown",
   "id": "3f9f993f",
   "metadata": {},
   "source": [
    "# What is a string in Python, and how is it different from a list?"
   ]
  },
  {
   "cell_type": "markdown",
   "id": "6c51b371",
   "metadata": {},
   "source": [
    " A string is a sequence of characters that is immutable, while a list is a mutable sequence that can hold elements of different data types."
   ]
  },
  {
   "cell_type": "markdown",
   "id": "b075da7c",
   "metadata": {},
   "source": [
    "# How do tuples ensure data integrity in Python? "
   ]
  },
  {
   "cell_type": "markdown",
   "id": "9486f544",
   "metadata": {},
   "source": [
    "By being immutable, tuples prevent accidental changes, making them ideal for fixed collections like configurations or constants."
   ]
  },
  {
   "cell_type": "markdown",
   "id": "ea8a8ff3",
   "metadata": {},
   "source": [
    "# What is a hash table, and how does it relate to dictionaries in Python?"
   ]
  },
  {
   "cell_type": "markdown",
   "id": "7dc26c72",
   "metadata": {},
   "source": [
    "A hash table is a data structure that maps keys to values using a hash function. Dictionaries in Python are implemented using hash tables."
   ]
  },
  {
   "cell_type": "markdown",
   "id": "45269d50",
   "metadata": {},
   "source": [
    "# Can lists contain different data types in Python?"
   ]
  },
  {
   "cell_type": "markdown",
   "id": "8a110b4c",
   "metadata": {},
   "source": [
    "Yes, Python lists can hold elements of mixed data types"
   ]
  },
  {
   "cell_type": "markdown",
   "id": "ef3b6192",
   "metadata": {},
   "source": [
    "# Explain why strings are immutable in Python?"
   ]
  },
  {
   "cell_type": "markdown",
   "id": "a70365a7",
   "metadata": {},
   "source": [
    " Strings are immutable to enhance performance and memory efficiency, especially since they are frequently used as keys in dictionaries."
   ]
  },
  {
   "cell_type": "markdown",
   "id": "73973436",
   "metadata": {},
   "source": [
    "# What advantages do dictionaries offer over lists for certain tasks?"
   ]
  },
  {
   "cell_type": "markdown",
   "id": "0c0700cf",
   "metadata": {},
   "source": [
    "Dictionaries provide fast lookups and allow the organization of data in key-value pairs, which is more intuitive for certain tasks like mappings."
   ]
  },
  {
   "cell_type": "markdown",
   "id": "10ef57d8",
   "metadata": {},
   "source": [
    "# Describe a scenario where using a tuple would be preferable over a list?"
   ]
  },
  {
   "cell_type": "markdown",
   "id": "bf1ef5dc",
   "metadata": {},
   "source": [
    "Tuples are preferable when data should remain constant, such as coordinates or function returns that must not be altered."
   ]
  },
  {
   "cell_type": "markdown",
   "id": "e047d6e2",
   "metadata": {},
   "source": [
    "# How do sets handle duplicate values in Python?"
   ]
  },
  {
   "cell_type": "markdown",
   "id": "0f3ea885",
   "metadata": {},
   "source": [
    "Sets automatically discard duplicate values, ensuring all elements are unique."
   ]
  },
  {
   "cell_type": "markdown",
   "id": "6d5fc774",
   "metadata": {},
   "source": [
    "# How does the in keyword work differently for lists and dictionaries?"
   ]
  },
  {
   "cell_type": "markdown",
   "id": "1707a3b8",
   "metadata": {},
   "source": [
    "1. For lists, in checks if a value exists in the list.\n",
    "2. For dictionaries, in checks for the existence of a key."
   ]
  },
  {
   "cell_type": "markdown",
   "id": "e4f8bcf5",
   "metadata": {},
   "source": [
    "# Can you modify the elements of a tuple? Explain why or why not."
   ]
  },
  {
   "cell_type": "markdown",
   "id": "19a1f79a",
   "metadata": {},
   "source": [
    "No, tuples are immutable, meaning their elements cannot be modified after creation."
   ]
  },
  {
   "cell_type": "markdown",
   "id": "f54b0f92",
   "metadata": {},
   "source": [
    "# What is a nested dictionary, and give an example of its use case."
   ]
  },
  {
   "cell_type": "markdown",
   "id": "3c910565",
   "metadata": {},
   "source": [
    "A nested dictionary is a dictionary within another dictionary (example: students = {\"John\": {\"Math\": 90, \"Science\": 85}, \"Jane\": {\"Math\": 95, \"Science\": 92}})\n"
   ]
  },
  {
   "cell_type": "markdown",
   "id": "f3f0701b",
   "metadata": {},
   "source": [
    "# Describe the time complexity of accessing elements in a dictionary."
   ]
  },
  {
   "cell_type": "markdown",
   "id": "5061435b",
   "metadata": {},
   "source": [
    " Accessing elements in a dictionary has an average time complexity of O(1) due to hashing."
   ]
  },
  {
   "cell_type": "markdown",
   "id": "da959f69",
   "metadata": {},
   "source": [
    "# In what situations are lists preferred over dictionaries? "
   ]
  },
  {
   "cell_type": "markdown",
   "id": "e2994851",
   "metadata": {},
   "source": [
    "Lists are preferred when order and sequential access are important, such as in stacks or queues."
   ]
  },
  {
   "cell_type": "markdown",
   "id": "b6521f47",
   "metadata": {},
   "source": [
    "# Why are dictionaries considered unordered, and how does that affect data retrieval?"
   ]
  },
  {
   "cell_type": "markdown",
   "id": "5e4c3219",
   "metadata": {},
   "source": [
    "Dictionaries are unordered because they rely on hashing"
   ]
  },
  {
   "cell_type": "markdown",
   "id": "83ae9197",
   "metadata": {},
   "source": [
    "# Explain the difference between a list and a dictionary in terms of data retrieval."
   ]
  },
  {
   "cell_type": "markdown",
   "id": "a1573ee5",
   "metadata": {},
   "source": [
    "1. Lists use indices for data retrieval.\n",
    "2. Dictionaries use keys for data retrieval."
   ]
  },
  {
   "cell_type": "markdown",
   "id": "a2e470bb",
   "metadata": {},
   "source": [
    "# Practical Question"
   ]
  },
  {
   "cell_type": "code",
   "execution_count": 4,
   "id": "8e166f2a",
   "metadata": {},
   "outputs": [
    {
     "name": "stdout",
     "output_type": "stream",
     "text": [
      "Santhosh Kumaran\n"
     ]
    }
   ],
   "source": [
    "name = \"Santhosh Kumaran\"\n",
    "print(name)\n"
   ]
  },
  {
   "cell_type": "code",
   "execution_count": 5,
   "id": "5d572233",
   "metadata": {},
   "outputs": [
    {
     "name": "stdout",
     "output_type": "stream",
     "text": [
      "11\n"
     ]
    }
   ],
   "source": [
    "print(len(\"Hello World\"))\n",
    "\n"
   ]
  },
  {
   "cell_type": "code",
   "execution_count": 6,
   "id": "aa6a225d",
   "metadata": {},
   "outputs": [
    {
     "name": "stdout",
     "output_type": "stream",
     "text": [
      "Pyt\n"
     ]
    }
   ],
   "source": [
    "print(\"Python Programming\"[:3])\n"
   ]
  },
  {
   "cell_type": "code",
   "execution_count": 7,
   "id": "00944f43",
   "metadata": {},
   "outputs": [
    {
     "name": "stdout",
     "output_type": "stream",
     "text": [
      "HELLO\n"
     ]
    }
   ],
   "source": [
    "print(\"hello\".upper())\n"
   ]
  },
  {
   "cell_type": "code",
   "execution_count": 8,
   "id": "cdd055be",
   "metadata": {},
   "outputs": [
    {
     "name": "stdout",
     "output_type": "stream",
     "text": [
      "I like orange\n"
     ]
    }
   ],
   "source": [
    "print(\"I like apple\".replace(\"apple\", \"orange\"))\n"
   ]
  },
  {
   "cell_type": "code",
   "execution_count": 9,
   "id": "53797fd5",
   "metadata": {},
   "outputs": [
    {
     "name": "stdout",
     "output_type": "stream",
     "text": [
      "[1, 2, 3, 4, 5]\n"
     ]
    }
   ],
   "source": [
    "numbers = [1, 2, 3, 4, 5]\n",
    "print(numbers)\n"
   ]
  },
  {
   "cell_type": "code",
   "execution_count": 10,
   "id": "b36a7161",
   "metadata": {},
   "outputs": [
    {
     "name": "stdout",
     "output_type": "stream",
     "text": [
      "[1, 2, 3, 4, 10]\n"
     ]
    }
   ],
   "source": [
    "my_list = [1, 2, 3, 4]\n",
    "my_list.append(10)\n",
    "print(my_list)\n"
   ]
  },
  {
   "cell_type": "code",
   "execution_count": 11,
   "id": "54371dab",
   "metadata": {},
   "outputs": [
    {
     "name": "stdout",
     "output_type": "stream",
     "text": [
      "b\n"
     ]
    }
   ],
   "source": [
    "my_list = ['a', 'b', 'c', 'd']\n",
    "print(my_list[1])\n"
   ]
  },
  {
   "cell_type": "code",
   "execution_count": 12,
   "id": "31e1bb7a",
   "metadata": {},
   "outputs": [
    {
     "name": "stdout",
     "output_type": "stream",
     "text": [
      "[50, 40, 30, 20, 10]\n"
     ]
    }
   ],
   "source": [
    "my_list = [10, 20, 30, 40, 50]\n",
    "my_list.reverse()\n",
    "print(my_list)\n"
   ]
  },
  {
   "cell_type": "code",
   "execution_count": 13,
   "id": "a77fb209",
   "metadata": {},
   "outputs": [
    {
     "name": "stdout",
     "output_type": "stream",
     "text": [
      "(10, 20, 30)\n"
     ]
    }
   ],
   "source": [
    "my_tuple = (10, 20, 30)\n",
    "print(my_tuple)\n"
   ]
  },
  {
   "cell_type": "code",
   "execution_count": 14,
   "id": "77981a80",
   "metadata": {},
   "outputs": [
    {
     "name": "stdout",
     "output_type": "stream",
     "text": [
      "apple\n"
     ]
    }
   ],
   "source": [
    "my_tuple = ('apple', 'banana', 'cherry')\n",
    "print(my_tuple[0])\n"
   ]
  },
  {
   "cell_type": "code",
   "execution_count": 15,
   "id": "1a3fee00",
   "metadata": {},
   "outputs": [
    {
     "name": "stdout",
     "output_type": "stream",
     "text": [
      "3\n"
     ]
    }
   ],
   "source": [
    "my_tuple = (1, 2, 3, 2, 4, 2)\n",
    "print(my_tuple.count(2))\n"
   ]
  },
  {
   "cell_type": "code",
   "execution_count": 16,
   "id": "c978195f",
   "metadata": {},
   "outputs": [
    {
     "name": "stdout",
     "output_type": "stream",
     "text": [
      "1\n"
     ]
    }
   ],
   "source": [
    "my_tuple = ('dog', 'cat', 'rabbit')\n",
    "print(my_tuple.index('cat'))\n"
   ]
  },
  {
   "cell_type": "code",
   "execution_count": 17,
   "id": "91804a9e",
   "metadata": {},
   "outputs": [
    {
     "name": "stdout",
     "output_type": "stream",
     "text": [
      "True\n"
     ]
    }
   ],
   "source": [
    "my_tuple = ('apple', 'orange', 'banana')\n",
    "print(\"banana\" in my_tuple)\n"
   ]
  },
  {
   "cell_type": "code",
   "execution_count": 18,
   "id": "d119f6b4",
   "metadata": {},
   "outputs": [
    {
     "name": "stdout",
     "output_type": "stream",
     "text": [
      "{1, 2, 3, 4, 5}\n"
     ]
    }
   ],
   "source": [
    "my_set = {1, 2, 3, 4, 5}\n",
    "print(my_set)\n"
   ]
  },
  {
   "cell_type": "code",
   "execution_count": 19,
   "id": "de62163e",
   "metadata": {},
   "outputs": [
    {
     "name": "stdout",
     "output_type": "stream",
     "text": [
      "{1, 2, 3, 4, 6}\n"
     ]
    }
   ],
   "source": [
    "my_set = {1, 2, 3, 4}\n",
    "my_set.add(6)\n",
    "print(my_set)\n"
   ]
  },
  {
   "cell_type": "code",
   "execution_count": null,
   "id": "3fde6ef8",
   "metadata": {},
   "outputs": [],
   "source": []
  }
 ],
 "metadata": {
  "kernelspec": {
   "display_name": "Python 3 (ipykernel)",
   "language": "python",
   "name": "python3"
  },
  "language_info": {
   "codemirror_mode": {
    "name": "ipython",
    "version": 3
   },
   "file_extension": ".py",
   "mimetype": "text/x-python",
   "name": "python",
   "nbconvert_exporter": "python",
   "pygments_lexer": "ipython3",
   "version": "3.11.4"
  }
 },
 "nbformat": 4,
 "nbformat_minor": 5
}
